{
  "nbformat": 4,
  "nbformat_minor": 0,
  "metadata": {
    "colab": {
      "name": "Untitled0.ipynb",
      "provenance": [],
      "authorship_tag": "ABX9TyPoGw85Ay9sl+sVDA65T+C4",
      "include_colab_link": true
    },
    "kernelspec": {
      "name": "python3",
      "display_name": "Python 3"
    },
    "language_info": {
      "name": "python"
    },
    "accelerator": "GPU"
  },
  "cells": [
    {
      "cell_type": "markdown",
      "metadata": {
        "id": "view-in-github",
        "colab_type": "text"
      },
      "source": [
        "<a href=\"https://colab.research.google.com/github/KhalidNazzar/exercises_python/blob/main/Untitled0.ipynb\" target=\"_parent\"><img src=\"https://colab.research.google.com/assets/colab-badge.svg\" alt=\"Open In Colab\"/></a>"
      ]
    },
    {
      "cell_type": "code",
      "metadata": {
        "colab": {
          "base_uri": "https://localhost:8080/"
        },
        "id": "G4aeh7JZp2yC",
        "outputId": "db2cc114-fd76-4309-8e86-3ec1dc1b8203"
      },
      "source": [
        "x = input(print(\"salam\"))"
      ],
      "execution_count": 1,
      "outputs": [
        {
          "output_type": "stream",
          "text": [
            "salam\n",
            "5\n"
          ],
          "name": "stdout"
        }
      ]
    },
    {
      "cell_type": "code",
      "metadata": {
        "colab": {
          "base_uri": "https://localhost:8080/",
          "height": 35
        },
        "id": "nPlsKqWqp_hF",
        "outputId": "7b778f88-62c5-437f-8d18-67584c29db58"
      },
      "source": [
        "x"
      ],
      "execution_count": 2,
      "outputs": [
        {
          "output_type": "execute_result",
          "data": {
            "application/vnd.google.colaboratory.intrinsic+json": {
              "type": "string"
            },
            "text/plain": [
              "'5'"
            ]
          },
          "metadata": {
            "tags": []
          },
          "execution_count": 2
        }
      ]
    },
    {
      "cell_type": "code",
      "metadata": {
        "colab": {
          "base_uri": "https://localhost:8080/"
        },
        "id": "Sjb9n5IlqQly",
        "outputId": "2941aaf0-363a-482a-b686-b69cb7d608b7"
      },
      "source": [
        "type(x)"
      ],
      "execution_count": 3,
      "outputs": [
        {
          "output_type": "execute_result",
          "data": {
            "text/plain": [
              "str"
            ]
          },
          "metadata": {
            "tags": []
          },
          "execution_count": 3
        }
      ]
    },
    {
      "cell_type": "code",
      "metadata": {
        "colab": {
          "base_uri": "https://localhost:8080/"
        },
        "id": "ClxMaRFZqR2B",
        "outputId": "2729a22c-0e0f-40c7-c02c-37be552a0ecb"
      },
      "source": [
        "def first():\n",
        "  print('salam')\n",
        "first()"
      ],
      "execution_count": 10,
      "outputs": [
        {
          "output_type": "stream",
          "text": [
            "salam\n"
          ],
          "name": "stdout"
        }
      ]
    },
    {
      "cell_type": "code",
      "metadata": {
        "colab": {
          "base_uri": "https://localhost:8080/"
        },
        "id": "PI6FqWWGqf1o",
        "outputId": "d33a1636-3d2c-40ae-9436-994320de257a"
      },
      "source": [
        "first()"
      ],
      "execution_count": 11,
      "outputs": [
        {
          "output_type": "stream",
          "text": [
            "salam\n"
          ],
          "name": "stdout"
        }
      ]
    },
    {
      "cell_type": "code",
      "metadata": {
        "id": "VRGI-85tqiYb"
      },
      "source": [
        "dicti = {\n",
        "    'adi':' ',\n",
        "    'soyadi':' ',\n",
        "    'yasi':' '\n",
        "    }\n",
        "\n",
        "def T_H():\n",
        "  ad = input('adinizi daxil edin')\n",
        "  soyad = input('soyadinizi daxil edin')\n",
        "  yas = input('yasinizi daxil edin')\n",
        "  if ad=='murad':\n",
        "    dicti['adi']= ad\n",
        "  else:\n",
        "    print('best one')\n",
        "  if soyad == 'Elili':\n",
        "    dicti ['soyadi'] = soyad\n",
        "  else:\n",
        "    print(\"grand\")\n",
        "  if yas!=23:\n",
        "    dicti['yasi'] = yas\n",
        "  else:\n",
        "    print(\"Yas o yas deyil\")\n",
        "\n",
        "  return dicti"
      ],
      "execution_count": 25,
      "outputs": []
    },
    {
      "cell_type": "code",
      "metadata": {
        "colab": {
          "base_uri": "https://localhost:8080/"
        },
        "id": "oO2Hm5PEtQzj",
        "outputId": "cc5a32c7-b8dd-4766-9594-5d775a88cf3d"
      },
      "source": [
        "T_H()"
      ],
      "execution_count": 26,
      "outputs": [
        {
          "output_type": "stream",
          "text": [
            "adinizi daxil edinxalid\n",
            "soyadinizi daxil edinnazzar\n",
            "yasinizi daxil edin20\n"
          ],
          "name": "stdout"
        },
        {
          "output_type": "execute_result",
          "data": {
            "text/plain": [
              "{'adi': 'xalid', 'soyadi': 'nazzar', 'yasi': '20'}"
            ]
          },
          "metadata": {
            "tags": []
          },
          "execution_count": 26
        }
      ]
    },
    {
      "cell_type": "code",
      "metadata": {
        "id": "KvUdJ__QtVxs"
      },
      "source": [
        "dictin = {\n",
        "    'ad': ' ',\n",
        "    'yas': ' ',\n",
        "    'sinif': ' '\n",
        "}\n",
        "\n",
        "def func():\n",
        "  adi = input('adinizi daxil edin ')\n",
        "  yasi = input('yasinizi daxil edin ')\n",
        "  sinifi = input('sinifi daxil edin ')\n",
        "\n",
        "  if adi!='Murad' and yasi!=\"23\" or sinifi != '23':\n",
        "    dictin['ad'] = adi\n",
        "    dictin['yas'] = yasi\n",
        "    dictin['sinif'] = sinifi\n",
        "\n",
        "    return dictin"
      ],
      "execution_count": 44,
      "outputs": []
    },
    {
      "cell_type": "code",
      "metadata": {
        "colab": {
          "base_uri": "https://localhost:8080/"
        },
        "id": "K0-4uC4zz8gK",
        "outputId": "c0b379a8-806f-482c-ac8e-1c7eab926314"
      },
      "source": [
        "func()"
      ],
      "execution_count": 46,
      "outputs": [
        {
          "output_type": "stream",
          "text": [
            "adinizi daxil edin xalid\n",
            "yasinizi daxil edin 20\n",
            "sinifi daxil edin 23\n"
          ],
          "name": "stdout"
        },
        {
          "output_type": "execute_result",
          "data": {
            "text/plain": [
              "{'ad': 'xalid', 'sinif': '23', 'yas': '20'}"
            ]
          },
          "metadata": {
            "tags": []
          },
          "execution_count": 46
        }
      ]
    },
    {
      "cell_type": "code",
      "metadata": {
        "id": "VplADpkS0eSh"
      },
      "source": [
        "import tensorflow as tf"
      ],
      "execution_count": 3,
      "outputs": []
    },
    {
      "cell_type": "code",
      "metadata": {
        "colab": {
          "base_uri": "https://localhost:8080/"
        },
        "id": "2ew6-2dJCRq6",
        "outputId": "83107fe0-7f0e-4d8b-de6e-49555f58c4f3"
      },
      "source": [
        "! nvidia-smi"
      ],
      "execution_count": 4,
      "outputs": [
        {
          "output_type": "stream",
          "text": [
            "Thu Jul 29 06:53:09 2021       \n",
            "+-----------------------------------------------------------------------------+\n",
            "| NVIDIA-SMI 470.42.01    Driver Version: 460.32.03    CUDA Version: 11.2     |\n",
            "|-------------------------------+----------------------+----------------------+\n",
            "| GPU  Name        Persistence-M| Bus-Id        Disp.A | Volatile Uncorr. ECC |\n",
            "| Fan  Temp  Perf  Pwr:Usage/Cap|         Memory-Usage | GPU-Util  Compute M. |\n",
            "|                               |                      |               MIG M. |\n",
            "|===============================+======================+======================|\n",
            "|   0  Tesla T4            Off  | 00000000:00:04.0 Off |                    0 |\n",
            "| N/A   39C    P8     9W /  70W |      0MiB / 15109MiB |      0%      Default |\n",
            "|                               |                      |                  N/A |\n",
            "+-------------------------------+----------------------+----------------------+\n",
            "                                                                               \n",
            "+-----------------------------------------------------------------------------+\n",
            "| Processes:                                                                  |\n",
            "|  GPU   GI   CI        PID   Type   Process name                  GPU Memory |\n",
            "|        ID   ID                                                   Usage      |\n",
            "|=============================================================================|\n",
            "|  No running processes found                                                 |\n",
            "+-----------------------------------------------------------------------------+\n"
          ],
          "name": "stdout"
        }
      ]
    },
    {
      "cell_type": "code",
      "metadata": {
        "id": "EQkPNCbuCc6K"
      },
      "source": [
        ""
      ],
      "execution_count": null,
      "outputs": []
    }
  ]
}